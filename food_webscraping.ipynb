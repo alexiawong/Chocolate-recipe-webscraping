{
 "cells": [
  {
   "cell_type": "markdown",
   "id": "99f6ab0b",
   "metadata": {},
   "source": [
    "Can I follow the webscraping process?\n",
    "Use food network website and search chocolate up in their recipes\n",
    "See if we can get 4 or more stars if possible\n",
    "And/Or courtesy of Ina Garten"
   ]
  },
  {
   "cell_type": "code",
   "execution_count": 1,
   "id": "e6f590e3",
   "metadata": {},
   "outputs": [
    {
     "data": {
      "text/plain": [
       "'imports complete'"
      ]
     },
     "execution_count": 1,
     "metadata": {},
     "output_type": "execute_result"
    }
   ],
   "source": [
    "from bs4 import BeautifulSoup\n",
    "import requests\n",
    "import time\n",
    "\"imports complete\""
   ]
  },
  {
   "cell_type": "code",
   "execution_count": 15,
   "id": "21259717",
   "metadata": {},
   "outputs": [
    {
     "name": "stdout",
     "output_type": "stream",
     "text": [
      "Peanut Butter-Chocolate No-Bake Cookies\n"
     ]
    }
   ],
   "source": [
    "#Note the big differences when you add _all or .text to things\n",
    "#it really affects your ability to print, and html_text HAS to have .text\n",
    "#in order for BeautifulSoup to be called in the next function\n",
    "\n",
    "html_text = requests.get(\"https://www.foodnetwork.com/search/chocolate-\").text\n",
    "soup = BeautifulSoup(html_text, \"lxml\")\n",
    "food = soup.find(\"section\", class_ = \"o-RecipeResult o-ResultCard\")\n",
    "recipe_text = food.find(\"span\", class_ = \"m-MediaBlock__a-HeadlineText\").text\n",
    "print(recipe_text)"
   ]
  },
  {
   "cell_type": "code",
   "execution_count": 16,
   "id": "2972fc2f",
   "metadata": {
    "scrolled": true
   },
   "outputs": [
    {
     "name": "stdout",
     "output_type": "stream",
     "text": [
      "Courtesy of Food Network Kitchen                            \n"
     ]
    }
   ],
   "source": [
    "#find the creator of the recipe aka chef\n",
    "\n",
    "chef_text = food.find(\"span\", class_ = \"m-Info__a-AssetInfo\").text.replace(\"\\n\", \"\")\n",
    "print(chef_text)\n"
   ]
  },
  {
   "cell_type": "code",
   "execution_count": 17,
   "id": "fd25676c",
   "metadata": {},
   "outputs": [
    {
     "name": "stdout",
     "output_type": "stream",
     "text": [
      "4.5\n"
     ]
    }
   ],
   "source": [
    "#find the rating\n",
    "\n",
    "rating = food.find(\"span\", class_ = \"gig-rating-stars\")[\"title\"]\n",
    "#takes just the first number from the string and turns it into a float so we can use for a logical in the for loop\n",
    "out_of_5 = float(rating.split()[0])\n",
    "print(out_of_5)"
   ]
  },
  {
   "cell_type": "code",
   "execution_count": 29,
   "id": "7b89d4a4",
   "metadata": {},
   "outputs": [
    {
     "name": "stdout",
     "output_type": "stream",
     "text": [
      "//www.foodnetwork.com/recipes/food-network-kitchen/peanut-butter-chocolate-no-bake-cookies-recipe-2015085\n"
     ]
    }
   ],
   "source": [
    "#Can I add the website info?\n",
    "web_info = food.find(\"div\", class_ = \"m-MediaBlock__m-Rating\").a[\"href\"]\n",
    "print(web_info)"
   ]
  },
  {
   "cell_type": "code",
   "execution_count": 32,
   "id": "ab627f17",
   "metadata": {
    "scrolled": true
   },
   "outputs": [
    {
     "name": "stdout",
     "output_type": "stream",
     "text": [
      "Name of recipe: Peanut Butter-Chocolate No-Bake Cookies\n",
      "Name of Chef/Creator: Courtesy of Food Network Kitchen                            \n",
      "4.5 stars out of 5\n",
      "Website: //www.foodnetwork.com/recipes/food-network-kitchen/peanut-butter-chocolate-no-bake-cookies-recipe-2015085 \n",
      "\n",
      "\n",
      "Name of recipe: Chocolate Chip Cookies\n",
      "Name of Chef/Creator: Courtesy of Food Network Kitchen                            \n",
      "4.5 stars out of 5\n",
      "Website: //www.foodnetwork.com/recipes/food-network-kitchen/chocolate-chip-cookies-recipe4-2011856 \n",
      "\n",
      "\n",
      "Name of recipe: Simple Chocolate Chip Cookies\n",
      "Name of Chef/Creator: None\n",
      "4.5 stars out of 5\n",
      "Website: //www.foodnetwork.com/recipes/food-network-kitchen/simple-chocolate-chip-cookies-3362917 \n",
      "\n",
      "\n",
      "Name of recipe: Chocolate Chip Cookie Dough\n",
      "Name of Chef/Creator: Courtesy of Food Network Kitchen                            \n",
      "4.5 stars out of 5\n",
      "Website: //www.foodnetwork.com/recipes/food-network-kitchen/chocolate-chip-cookie-dough-3363883 \n",
      "\n",
      "\n",
      "Name of recipe: Pumpkin Chocolate Chip Cookies\n",
      "Name of Chef/Creator: Courtesy of George Duran                            \n",
      "5.0 stars out of 5\n",
      "Website: //www.foodnetwork.com/recipes/pumpkin-chocolate-chip-cookies-recipe-1946557 \n",
      "\n",
      "\n",
      "Name of recipe: Beatty's Chocolate Cake\n",
      "Name of Chef/Creator: Courtesy of Ina Garten                            \n",
      "5.0 stars out of 5\n",
      "Website: //www.foodnetwork.com/recipes/ina-garten/beattys-chocolate-cake-recipe-1947521 \n",
      "\n",
      "\n",
      "Name of recipe: No-Bake Chocolate Oatmeal Cookies\n",
      "Name of Chef/Creator: Courtesy of Giada De Laurentiis                            \n",
      "4.5 stars out of 5\n",
      "Website: //www.foodnetwork.com/recipes/giada-de-laurentiis/no-bake-chocolate-oatmeal-cookies-8761469 \n",
      "\n",
      "\n"
     ]
    }
   ],
   "source": [
    "#put it all together\n",
    "all_food = soup.find_all(\"section\", class_ = \"o-RecipeResult o-ResultCard\")\n",
    "for i in all_food:\n",
    "    recipes = i.find(\"span\", class_ = \"m-MediaBlock__a-HeadlineText\")\n",
    "    chefs = i.find(\"span\", class_ = \"m-Info__a-AssetInfo\")\n",
    "    ratings = i.find(\"span\", class_ = \"gig-rating-stars\")[\"title\"]\n",
    "    out_of_5 = float(ratings.split()[0])\n",
    "    web_info = i.find(\"div\", class_ = \"m-MediaBlock__m-Rating\").a[\"href\"]\n",
    "#some recipes don't have a chef/creator listed so we have to account for that\n",
    "    if chefs == None:\n",
    "        chef_text = \"None\"\n",
    "    else:\n",
    "        chef_text = chefs.text.replace(\"\\n\", \"\")\n",
    "\n",
    "#could right a logical statement here\n",
    "    recipe_text = recipes.text\n",
    "    print(f\"Name of recipe: {recipe_text}\")\n",
    "    print(f\"Name of Chef/Creator: {chef_text}\")\n",
    "    print(f\"{out_of_5} stars out of 5\")\n",
    "    print(f\"Website: {web_info} \\n\\n\")\n",
    "\n",
    "#I can't figure out why I can't get the ratings right    "
   ]
  },
  {
   "cell_type": "code",
   "execution_count": 37,
   "id": "a2556acc",
   "metadata": {},
   "outputs": [
    {
     "ename": "FileNotFoundError",
     "evalue": "[Errno 2] No such file or directory: 'chocolate_recipes/0.txt'",
     "output_type": "error",
     "traceback": [
      "\u001b[1;31m---------------------------------------------------------------------------\u001b[0m",
      "\u001b[1;31mFileNotFoundError\u001b[0m                         Traceback (most recent call last)",
      "\u001b[1;32m<ipython-input-37-223710c3c375>\u001b[0m in \u001b[0;36m<module>\u001b[1;34m\u001b[0m\n\u001b[0;32m     30\u001b[0m \u001b[1;33m\u001b[0m\u001b[0m\n\u001b[0;32m     31\u001b[0m \u001b[1;33m\u001b[0m\u001b[0m\n\u001b[1;32m---> 32\u001b[1;33m \u001b[0mfind_recipes\u001b[0m\u001b[1;33m(\u001b[0m\u001b[1;33m)\u001b[0m\u001b[1;33m\u001b[0m\u001b[1;33m\u001b[0m\u001b[0m\n\u001b[0m",
      "\u001b[1;32m<ipython-input-37-223710c3c375>\u001b[0m in \u001b[0;36mfind_recipes\u001b[1;34m()\u001b[0m\n\u001b[0;32m     19\u001b[0m \u001b[1;31m#write into a text file\u001b[0m\u001b[1;33m\u001b[0m\u001b[1;33m\u001b[0m\u001b[1;33m\u001b[0m\u001b[0m\n\u001b[0;32m     20\u001b[0m         \u001b[0mrecipe_text\u001b[0m \u001b[1;33m=\u001b[0m \u001b[0mrecipes\u001b[0m\u001b[1;33m.\u001b[0m\u001b[0mtext\u001b[0m\u001b[1;33m\u001b[0m\u001b[1;33m\u001b[0m\u001b[0m\n\u001b[1;32m---> 21\u001b[1;33m         \u001b[1;32mwith\u001b[0m \u001b[0mopen\u001b[0m\u001b[1;33m(\u001b[0m\u001b[1;34mf\"chocolate_recipes/{index}.txt\"\u001b[0m\u001b[1;33m,\u001b[0m \u001b[1;34m\"w\"\u001b[0m\u001b[1;33m)\u001b[0m \u001b[1;32mas\u001b[0m \u001b[0mf\u001b[0m\u001b[1;33m:\u001b[0m\u001b[1;33m\u001b[0m\u001b[1;33m\u001b[0m\u001b[0m\n\u001b[0m\u001b[0;32m     22\u001b[0m             \u001b[0mf\u001b[0m\u001b[1;33m.\u001b[0m\u001b[0mwrite\u001b[0m\u001b[1;33m(\u001b[0m\u001b[1;34mf\"Name of recipe: {recipe_text.strip()} \\n\"\u001b[0m\u001b[1;33m)\u001b[0m\u001b[1;33m\u001b[0m\u001b[1;33m\u001b[0m\u001b[0m\n\u001b[0;32m     23\u001b[0m             \u001b[0mf\u001b[0m\u001b[1;33m.\u001b[0m\u001b[0mwrite\u001b[0m\u001b[1;33m(\u001b[0m\u001b[1;34mf\"Name of Chef/Creator: {chef_text.strip()} \\n\"\u001b[0m\u001b[1;33m)\u001b[0m\u001b[1;33m\u001b[0m\u001b[1;33m\u001b[0m\u001b[0m\n",
      "\u001b[1;31mFileNotFoundError\u001b[0m: [Errno 2] No such file or directory: 'chocolate_recipes/0.txt'"
     ]
    }
   ],
   "source": [
    "#put it all together\n",
    "#our og empty dataframe\n",
    "chocolate_df = pd.DataFrame({\"Recipe_Name\": [],\n",
    "                            \"Chef/Creator\": [],\n",
    "                            \"Stars\": [],\n",
    "                            \"Link\": []})\n",
    "\n",
    "\n",
    "def find_recipes():\n",
    "    html_text = requests.get(\"https://www.foodnetwork.com/search/chocolate-\").text\n",
    "    soup = BeautifulSoup(html_text, \"lxml\")\n",
    "    all_food = soup.find_all(\"section\", class_ = \"o-RecipeResult o-ResultCard\")\n",
    "    for index, i in enumerate(all_food):\n",
    "        #empty row everytime so that we don't have repeats when it cycles through\n",
    "        row_append = []\n",
    "        recipes = i.find(\"span\", class_ = \"m-MediaBlock__a-HeadlineText\")\n",
    "        chefs = i.find(\"span\", class_ = \"m-Info__a-AssetInfo\")\n",
    "        ratings = i.find(\"span\", class_ = \"gig-rating-stars\")[\"title\"]\n",
    "        out_of_5 = float(ratings.split()[0])\n",
    "        web_info = i.find(\"div\", class_ = \"m-MediaBlock__m-Rating\").a[\"href\"]\n",
    "#some recipes don't have a chef/creator listed so we have to account for that\n",
    "        if chefs == None:\n",
    "            chef_text = \"None\"\n",
    "        else:\n",
    "            chef_text = chefs.text.replace(\"\\n\", \"\")\n",
    "\n",
    "#could right a logical statement here\n",
    "#write into a text file\n",
    "\n",
    "#still having trouble writing the file\n",
    "#Maybe try a csv instead of a text file\n",
    "\n",
    "        recipe_text = recipes.text\n",
    "\n",
    "# Make a list so that it can be read as a row and then appended onto the dataframe\n",
    "        \n",
    "        \n",
    "        #with open(f\"chocolate_recipes/{index}.txt\", \"w\") as f:\n",
    "        #    f.write(f\"Name of recipe: {recipe_text.strip()} \\n\")\n",
    "        #    f.write(f\"Name of Chef/Creator: {chef_text.strip()} \\n\")\n",
    "        #    f.write(f\"{out_of_5} stars out of 5 \\n\")\n",
    "        #    f.write(f\"Website: {web_info} \\n\\n\")\n",
    "        #print(f\"Text file completed: {index}\")\n",
    "    \n",
    "\n",
    "\n",
    "\n",
    "        \n",
    "find_recipes()"
   ]
  },
  {
   "cell_type": "code",
   "execution_count": null,
   "id": "f5e556bd",
   "metadata": {},
   "outputs": [],
   "source": []
  }
 ],
 "metadata": {
  "kernelspec": {
   "display_name": "Python 3",
   "language": "python",
   "name": "python3"
  },
  "language_info": {
   "codemirror_mode": {
    "name": "ipython",
    "version": 3
   },
   "file_extension": ".py",
   "mimetype": "text/x-python",
   "name": "python",
   "nbconvert_exporter": "python",
   "pygments_lexer": "ipython3",
   "version": "3.8.8"
  }
 },
 "nbformat": 4,
 "nbformat_minor": 5
}
